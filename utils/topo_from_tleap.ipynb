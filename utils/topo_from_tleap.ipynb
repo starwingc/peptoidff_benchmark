{
 "cells": [
  {
   "cell_type": "code",
   "execution_count": null,
   "id": "f58a572b-3f67-463a-8fca-3b06e3b5e7bd",
   "metadata": {},
   "outputs": [],
   "source": []
  }
 ],
 "metadata": {
  "kernelspec": {
   "display_name": "AmberTool",
   "language": "python",
   "name": "ambertool"
  },
  "language_info": {
   "codemirror_mode": {
    "name": "ipython",
    "version": 3
   },
   "file_extension": ".py",
   "mimetype": "text/x-python",
   "name": "python",
   "nbconvert_exporter": "python",
   "pygments_lexer": "ipython3",
   "version": "3.9.15"
  }
 },
 "nbformat": 4,
 "nbformat_minor": 5
}
