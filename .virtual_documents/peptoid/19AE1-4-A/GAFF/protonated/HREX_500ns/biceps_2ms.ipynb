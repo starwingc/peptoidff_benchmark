


import biceps 

import mdtraj as md
import numpy as np
import pandas as pd 
import os, pickle, string, shutil 
import matplotlib.pyplot as plt
import matplotlib.gridspec as gridspec
import warnings
warnings.filterwarnings("ignore", category=UserWarning)
warnings.filterwarnings('ignore', category=FutureWarning)





def compute_ensemble_avg_NOE(grouped_files, indices, outdir, verbose=False):
    indices = np_ind_noe
    for i, state in enumerate(grouped_files):
        for j, frame in enumerate(state):
            d = md.compute_distances(md.load(frame), indices) * 10. # convert nm to Å
        data = np.mean(d, axis=0)
        data = data.reshape(1, -1) # Reshape the data to have the shape (1, 8) instead of (8,)
        np.savetxt(f'{outdir}NOE_{i}.txt', data)
        print(f"save model NOE to: {outdir}NOE_{i}.txt ")


import os
import shutil

# Define the root directory
root = 'biceps/'

# Check if the directory exists
if os.path.exists(root):
    # Clear the contents if the directory exists
    shutil.rmtree(root)  # Remove the directory and its contents
    os.makedirs(root)    # Recreate the empty directory
    print(f"All content in '{root}' has been cleared ")
else:
    # Create the directory if it doesn't exist
    os.makedirs(root)
    print(f"'{root}' has been created.")



# Store the Modeling and Experiment data NEO  
data_dir = 'biceps/data/'
biceps.toolbox.mkdir(data_dir)

# Define the atom pair indices for noe distance 
atom_indices = [
    [12, 31],
    [12, 32],
    [13, 31],
    [13, 32],
    [40, 53],
    [40, 54],
    [41, 53],
    [41, 54],
]

with open(f"{data_dir}atom_indice_noe.txt", 'w') as file:
    for pair in atom_indices:
        line = f"{pair[0]} {pair[1]}\n"
        file.write(line)
#recorded experimental state, and experimental NOE distance
exp_state_noe = [  
    [1, 3.5],
    [1, 3.5],
    [1, 3.5],
    [1, 3.5],
    [2, 3.2],
    [2, 3.2],
    [2, 3.2],
    [2, 3.2],
]

with open(f"{data_dir}noe_distance.txt", 'w') as file:
    for pair in exp_state_noe:
        line = f"{pair[0]} {pair[1]}\n"
        file.write(line)


outdir = 'biceps/_NOE/'
biceps.toolbox.mkdir(outdir)


# Create a grouped_file list 
grouped_files = []
ncluster = 8
for cluster in range(ncluster):
    sample = [f"sampling/sample_state_0_cluster{cluster}_whole.pdb"]
    grouped_files.append(sample)
#print(grouped_files)

# Create a index file for atomic indice and noe distance 
gmx_ind_noe = np.loadtxt(f"{data_dir}atom_indice_noe.txt")
#print(gmx_ind_noe)
if (type(gmx_ind_noe) != np.ndarray and type(gmx_ind_noe) != list):
    print(type(gmx_ind_noe))
np_ind_noe = gmx_ind_noe -1 #indices of numpy is indices of gmx - 1 
#print(np_ind_noe)
indices = np_ind_noe

# Compute the average NOE distance of samplings in each states (cluters) 
compute_ensemble_avg_NOE(grouped_files, indices, outdir)    

model_data_NOE = np.array([np.loadtxt(file) for file in biceps.toolbox.get_files(f"{outdir}*.txt")])
print(model_data_NOE)
exp_data_NOE = np.loadtxt(f"{data_dir}noe_distance.txt")


outdir = 'biceps/NOE/'
biceps.toolbox.mkdir(outdir)

prep = biceps.Preparation(nstates=8, outdir=outdir) # nstate = number of cluster for sampling 
prep.prepare_noe(exp_data_NOE, model_data_NOE, indices = np_ind_noe, verbose=True)


input_data = prep.to_sorted_list()
print(input_data)


pd.read_pickle(input_data[0][0])





# Convert the Probability into Reduced Free Energy 
P = np.loadtxt('sampling/clusters_probability.dat') / 100
print(P, P.sum())
k_B = 1.38e-23  # Boltzmann constant (j/K)
T = 300  # (K)
energies = -np.log(P) # Calculate reduced free energy E using the equation E = ln(P) (KT)
energies -= energies.min() # set ground state to zero, just in case
print(f"Reduced Free Energy F: {energies} KT")

####### Data and Output Directories #######

# REQUIRED: specify directory of input data (BICePs readable format)
input_data = biceps.toolbox.sort_data('biceps/NOE/')

# REQUIRED: specify outcome directory of BICePs sampling
outdir = 'biceps/results/'
# Make a new directory if we have to
biceps.toolbox.mkdir(outdir)


%matplotlib inline

fig = plt.figure(figsize=(6,4))
gs = gridspec.GridSpec(1, 1)
ax1 = plt.subplot(gs[0,0])
data1 = pd.concat([pd.read_pickle(i) for i in biceps.toolbox.get_files('biceps/NOE/*.noe')])
ax1 = data1["model"].plot.hist(alpha=0.5, bins=100, edgecolor='black', linewidth=1.2, color="b", label="GAFF 1")

# Ensure each experimental value is plotted as a separate vertical line
for exp_value in set(data1["exp"].to_numpy()):
    ax1.axvline(exp_value, c="orange", linewidth=3, label="Experiment")

handles, labels = ax1.get_legend_handles_labels()
by_label = dict(zip(labels, handles))
ax1.legend(by_label.values(), by_label.keys(), fontsize=14)
ax1.set_xlabel(r"NOE distance ($\AA$)", size=16)
ax1.set_ylabel("Counts", size=16)
ax1.axes.get_yaxis().set_ticks([])
ticks = [ax1.xaxis.get_minor_ticks(), ax1.xaxis.get_major_ticks()]
xmarks = [ax1.get_xticklabels()]
for k in range(0, len(ticks)):
    for tick in ticks[k]:
        tick.label1.set_fontsize(16)  # Corrected to tick.label1
for k in range(0, len(xmarks)):
    for mark in xmarks[k]:
        mark.set_fontsize(16)
        mark.set_rotation(0)
fig.tight_layout()
fig.savefig('biceps/histogram_of_NOE_observables.png', transparent=True, dpi=600)
plt.show()


nsteps = 5e6 
burn = 1e5
n_lambdas = 2
lambda_values = np.linspace(0.0, 1.0, n_lambdas)


#pd.DataFrame(biceps.get_restraint_options())
options = biceps.get_restraint_options(input_data)
pd.DataFrame(options)


# Change NOE reference potential from uniform to exponential
#options[0]["gamma"] = [1.0, 2.0, np.e] # change the gamma to np.e to cancel out it inpact

options[0]


# Multiprocess trajectories for each $\lambda$-value with a built-in decorator
@biceps.multiprocess(iterable=lambda_values)
def mp_lambdas(lam):
    ensemble = biceps.Ensemble(lam, energies)
    ensemble.initialize_restraints(input_data, options)
    sampler = biceps.PosteriorSampler(ensemble)
    sampler.sample(nsteps=nsteps, burn=burn, print_freq=1000, verbose=False)
    filename = os.path.join(outdir,'traj_lambda%2.2f.npz'%(lam))
    sampler.traj.process_results(filename)
    biceps.toolbox.save_object(sampler, filename.replace(".npz", ".pkl"))


convergence = biceps.Convergence(filename=os.path.join(outdir,"traj_lambda1.00.npz"), outdir=outdir)
convergence.plot_traces(figname="traces.pdf", xlim=(0, nsteps))


convergence.get_autocorrelation_curves(method="block-avg-auto", maxtau=1000, nblocks=5)


############ MBAR and Figures ###########
%matplotlib inline
# Let's do analysis using MBAR algorithm and plot figures
A = biceps.Analysis(outdir, nstates=len(energies))
biceps.toolbox.save_object(A, "analysis_object.pkl")
#pops = A.P_dP[:,n_lambdas-1]
pops, BS = A.P_dP, A.f_df
print(f"BICePs Scores = {BS[:,0]}")


import pickle
with open("analysis_object.pkl", 'rb') as f:
    A = pickle.load(f)


import os
import matplotlib.pyplot as plt

# Assuming A is your analysis object
pops, BS = A.P_dP, A.f_df
pops0, pops1 = pops[:, 0], pops[:, len(lambda_values) - 1]

legend_fontsize = 16
label_fontsize = 18


# Plot the figure with 'step' plot type
fig = A.plot(plottype="step", figname="BICePs_.pdf", figsize=(14, 8),
             label_fontsize=label_fontsize, legend_fontsize=legend_fontsize)
print(fig)
ax = fig.axes[0]

# Update tick label font size using tick_params
ax.tick_params(axis='both', which='major', labelsize=label_fontsize)
ax.tick_params(axis='both', which='minor', labelsize=label_fontsize)


output_path = os.path.join(outdir, "BICePs.png")
fig.savefig(output_path, transparent=True, dpi=600)
plt.show()




mlp = pd.concat([A.get_max_likelihood_parameters(model=i) for i in range(len(lambda_values))])
mlp.reset_index(inplace=True, drop=True)
mlp


import uncertainties as u

pops_std = A.P_dP[:,-1]

# NOTE: Get Prior MDS populations
prior_pops = np.loadtxt('sampling/clusters_probability.dat') / 100
prior_pops /= prior_pops.sum()

noe = [pd.read_pickle(i) for i in biceps.toolbox.get_files(f"biceps/NOE/*.noe")]
#  Get the ensemble average observable
noe_Exp = noe[0]["exp"].to_numpy()
noe_model = [i["model"].to_numpy() for i in noe]

noe_prior = np.array([w*noe_model[i] for i,w in enumerate(prior_pops)]).sum(axis=0)
noe_reweighted = np.array([u.ufloat(w, pops_std[i])*noe_model[i] for i,w in enumerate(pops[:,n_lambdas-1])]).sum(axis=0)

distance_labels = [f"{int(row[1]['atom_index1'])}-{int(row[1]['atom_index2'])}" for row in noe[0].iterrows()]
distance_label_indices = np.array([[row[1]['atom_index1'], row[1]['atom_index2']] for row in noe[0].iterrows()])

# Plot NOE data
fig = plt.figure(figsize=(6, 4))
gs = gridspec.GridSpec(1, 1)
ax1 = plt.subplot(gs[0, 0])
data = []

for i in range(len(noe_reweighted)):
    data.append({
        "index": i,
        "reweighted noe": noe_reweighted[i],
        "prior noe": noe_prior[i],
        "exp noe": noe_Exp[i],
        "scaled exp noe": noe_Exp[i] * mlp['gamma_noe'].to_numpy()[-1],
        "label": distance_labels[i]
    })

data1 = pd.DataFrame(data)
data1 = data1.sort_values(["prior noe"]).reset_index()

reweighted_vals = np.array([val.nominal_value for val in data1["reweighted noe"].to_numpy()])
reweighted_std = np.array([val.std_dev for val in data1["reweighted noe"].to_numpy()])

ax1.scatter(x=data1["label"].to_numpy(), y=data1["prior noe"].to_numpy(),
            s=45, color="orange", label="Prior", edgecolor='black')
# First Exp NOE
#ax1.scatter(x=data1["label"].to_numpy()[:4], y=data1["exp noe"].to_numpy()[:4],
#            s=150, marker="*", color="b", label="Exp NOE 1")
ax1.scatter(x=data1["label"].to_numpy()[:4], y=data1["scaled exp noe"][:4].to_numpy(),
            s=150, marker="_", color="b", label="Scaled Exp NOE 1")
# Second Exp NOE
#ax1.scatter(x=data1["label"].to_numpy()[4:9], y=data1["exp noe"].to_numpy()[4:9],
#            s=150, marker="*", color="r", label="Exp NOE 2")
ax1.scatter(x=data1["label"].to_numpy()[4:9], y=data1["scaled exp noe"].to_numpy()[4:9],
            s=150, marker="_", color="r", label="Scaled Exp NOE 2")

ax1.errorbar(x=data1['label'].to_numpy(), y=reweighted_vals,
             yerr=reweighted_std, fmt="o", capsize=5,
             markersize=5, markerfacecolor="c", label="BICePs",
             ecolor="k", markeredgecolor='black')

ax1.legend(fontsize=10)
ax1.set_ylabel(r"NOE distance ($\AA$)", size=18)
ax1.set_xlabel(r"Pair Indexs", size=18)

# Customize ticks and labels
ax1.tick_params(axis='x', labelsize=18, rotation=45)
ax1.tick_params(axis='y', labelsize=18)

fig.tight_layout()
fig.savefig(f"{outdir}/reweighted_NOE_observables.png",transparent=True, dpi=500)
plt.show()


print(options[0])


# After you have called on A = biceps.Analysis(#inputs)
pops, BS = A.P_dP, A.f_df
pops0,pops1 = pops[:,0], pops[:,len(lambda_values)-1]

# NOTE: Get Prior MDS populations
prior_pops = np.loadtxt('sampling/clusters_probability.dat') / 100
prior_pops /= prior_pops.sum()

# Print values of each column
print("Prior Pops:", prior_pops)
print("Pops1:", pops1)

n_bars = 8
bar_width = 0.5
interval = 0.15
indices = np.arange(n_bars) * (2*bar_width + interval)

fig, ax = plt.subplots()

# Plot prior_pops
ax.bar(indices, height=prior_pops, width=bar_width, label='Prior Pops', alpha=0.6, color='salmon')

# Plot pops1
ax.bar(indices + bar_width, height=pops1, width=bar_width, label='BICePs Reweight Pops', alpha=0.6, color='dodgerblue')

# Add labels and title
ax.set_xlabel('State', fontsize=16)
ax.set_ylabel('Population', fontsize=16)
ax.set_ylim(0, 1)
ax.set_title('Prior and Posterior Populations', fontsize=16)
ax.legend(fontsize=16)

# Set x-axis ticks and labels
ax.set_xticks(indices + bar_width / 2)
ax.set_xticklabels([0, 1, 2, 3, 4, 5, 6, 7])

fig.tight_layout()

# Save the plot
fig.savefig(f"{outdir}/prior_reweight_population.png", transparent=True, dpi=500)

# Show the plot
plt.show()


import numpy as np
import matplotlib.pyplot as plt

# Assuming you have already created an instance of the Analysis class
# A = biceps.Analysis(#inputs)
pops, BS = A.P_dP, A.f_df
pops0, pops1 = pops[:, 0], pops[:, len(lambda_values) - 1]

# Load and normalize prior populations
prior_pops = np.loadtxt('sampling/clusters_probability.dat') / 100
prior_pops /= prior_pops.sum()

# Print values of each column
print("Prior Pops:", prior_pops)
print("Pops1:", pops1)

n_bars = 8
bar_width = 0.5
interval = 0.15

# Create custom indices to create larger space between state 2 and state 3
indices = np.array([0, 1, 2, 4, 6, 8, 9, 10]) * (2 * bar_width + interval)

fig, ax = plt.subplots()

# Plot prior_pops
bars_prior = ax.bar(indices, height=prior_pops, width=bar_width, label='GAFF1 Pops', alpha=0.6, color='salmon')

# Plot pops1
bars_pops1 = ax.bar(indices + bar_width, height=pops1, width=bar_width, label='BICePs Reweight Pops', alpha=0.6, color='dodgerblue')

# Add a third column manually for state 2 and state 3
third_column_values = [0, 0, 0.524, 0.105, 0.179, 0, 0, 0]  # Only state 2 and state 3 have values
bars_third = ax.bar(indices + 2 * bar_width, height=third_column_values, width=bar_width, label='NMR Exp Pops', alpha=0.6, color='grey')

# Add labels and title
ax.set_xlabel('State', fontsize=16)
ax.set_ylabel('Population', fontsize=16)
ax.set_ylim(0, 1)
ax.set_title('Prior and Posterior Populations', fontsize=16)
ax.legend(fontsize=16)

# Set x-axis ticks and labels
ax.set_xticks(indices + bar_width)
ax.set_xticklabels([0, 1, 2, 3, 4, 5, 6, 7])

# Annotate the bars with percentage values
for bar in bars_prior:
    height = bar.get_height()
    if height > 0.05:
        ax.text(bar.get_x() + bar.get_width() / 2, height, f'{height:.2%}', ha='center', va='bottom', fontsize=14, rotation=80)

for bar in bars_pops1:
    height = bar.get_height()
    if height > 0.05:
        ax.text(bar.get_x() + bar.get_width() / 2, height, f'{height:.2%}', ha='center', va='bottom', fontsize=14, rotation=80)

for bar in bars_third:
    height = bar.get_height()
    if height > 0:  # Only label the bars with height greater than 0
        ax.text(bar.get_x() + bar.get_width() / 2, height, f'{height:.2%}', ha='center', va='bottom', fontsize=14, rotation=80)

fig.tight_layout()

# Save the plot
fig.savefig(f"{outdir}/prior_reweight_population.png", transparent=True, dpi=500)

# Show the plot
plt.show()




